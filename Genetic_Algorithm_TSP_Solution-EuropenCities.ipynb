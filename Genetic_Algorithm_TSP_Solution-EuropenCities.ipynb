{
 "cells": [
  {
   "cell_type": "markdown",
   "metadata": {},
   "source": [
    "## Import libraries"
   ]
  },
  {
   "cell_type": "code",
   "execution_count": 254,
   "metadata": {},
   "outputs": [],
   "source": [
    "import os \n",
    "import csv\n",
    "import numpy as np\n",
    "import pandas as pd\n",
    "import random # library to generate random numbers\n",
    "np.random.seed(seed=42)\n",
    "import math\n",
    "from datetime import datetime"
   ]
  },
  {
   "cell_type": "code",
   "execution_count": 255,
   "metadata": {},
   "outputs": [
    {
     "name": "stdout",
     "output_type": "stream",
     "text": [
      " Volume in drive E has no label.\n",
      " Volume Serial Number is 9E09-BCBF\n",
      "\n",
      " Directory of E:\\Batch72_Rennes_BLR\\CSE7321c\\Lab\\20190908_Batch66_CSE7321c_Lab01_GA\n",
      "\n",
      "11/12/2019  11:29 PM    <DIR>          .\n",
      "11/12/2019  11:29 PM    <DIR>          ..\n",
      "11/12/2019  05:50 PM    <DIR>          .ipynb_checkpoints\n",
      "09/08/2019  02:20 PM               705 cities_and_distances.csv\n",
      "11/12/2019  05:53 PM               779 europen_Cities.csv\n",
      "09/08/2019  02:20 PM         6,751,860 Genetic Algorithm - TSP Problem.pptx\n",
      "11/12/2019  11:29 PM            59,423 Genetic_Algorithm_TSP_Solution-EuropenCities.ipynb\n",
      "11/12/2019  05:43 PM            42,373 Genetic_Algorithm_TSP_Solution.ipynb\n",
      "11/12/2019  11:30 PM            22,466 map13.html\n",
      "               6 File(s)      6,877,606 bytes\n",
      "               3 Dir(s)  503,606,091,776 bytes free\n"
     ]
    }
   ],
   "source": [
    "#!dir"
   ]
  },
  {
   "cell_type": "markdown",
   "metadata": {},
   "source": [
    "#### Import data"
   ]
  },
  {
   "cell_type": "code",
   "execution_count": 256,
   "metadata": {},
   "outputs": [
    {
     "data": {
      "text/html": [
       "<div>\n",
       "<style scoped>\n",
       "    .dataframe tbody tr th:only-of-type {\n",
       "        vertical-align: middle;\n",
       "    }\n",
       "\n",
       "    .dataframe tbody tr th {\n",
       "        vertical-align: top;\n",
       "    }\n",
       "\n",
       "    .dataframe thead th {\n",
       "        text-align: right;\n",
       "    }\n",
       "</style>\n",
       "<table border=\"1\" class=\"dataframe\">\n",
       "  <thead>\n",
       "    <tr style=\"text-align: right;\">\n",
       "      <th></th>\n",
       "      <th>Athens</th>\n",
       "      <th>Barcelona</th>\n",
       "      <th>Brussels</th>\n",
       "      <th>Calais</th>\n",
       "      <th>Cherbourg</th>\n",
       "      <th>Cologne</th>\n",
       "      <th>Copenhagen</th>\n",
       "      <th>Geneva</th>\n",
       "      <th>Gibraltar</th>\n",
       "      <th>Hamburg</th>\n",
       "      <th>Hook of Holland</th>\n",
       "    </tr>\n",
       "  </thead>\n",
       "  <tbody>\n",
       "    <tr>\n",
       "      <th>Athens</th>\n",
       "      <td>0</td>\n",
       "      <td>3313</td>\n",
       "      <td>2963</td>\n",
       "      <td>3175</td>\n",
       "      <td>3339</td>\n",
       "      <td>2762</td>\n",
       "      <td>3276</td>\n",
       "      <td>2610</td>\n",
       "      <td>4485</td>\n",
       "      <td>2977</td>\n",
       "      <td>3030</td>\n",
       "    </tr>\n",
       "    <tr>\n",
       "      <th>Barcelona</th>\n",
       "      <td>3313</td>\n",
       "      <td>0</td>\n",
       "      <td>1318</td>\n",
       "      <td>1326</td>\n",
       "      <td>1294</td>\n",
       "      <td>1498</td>\n",
       "      <td>2218</td>\n",
       "      <td>803</td>\n",
       "      <td>1172</td>\n",
       "      <td>2018</td>\n",
       "      <td>1490</td>\n",
       "    </tr>\n",
       "    <tr>\n",
       "      <th>Brussels</th>\n",
       "      <td>2963</td>\n",
       "      <td>1318</td>\n",
       "      <td>0</td>\n",
       "      <td>204</td>\n",
       "      <td>583</td>\n",
       "      <td>206</td>\n",
       "      <td>966</td>\n",
       "      <td>677</td>\n",
       "      <td>2256</td>\n",
       "      <td>597</td>\n",
       "      <td>172</td>\n",
       "    </tr>\n",
       "    <tr>\n",
       "      <th>Calais</th>\n",
       "      <td>3175</td>\n",
       "      <td>1326</td>\n",
       "      <td>204</td>\n",
       "      <td>0</td>\n",
       "      <td>460</td>\n",
       "      <td>409</td>\n",
       "      <td>1136</td>\n",
       "      <td>747</td>\n",
       "      <td>2224</td>\n",
       "      <td>714</td>\n",
       "      <td>330</td>\n",
       "    </tr>\n",
       "    <tr>\n",
       "      <th>Cherbourg</th>\n",
       "      <td>3339</td>\n",
       "      <td>1294</td>\n",
       "      <td>583</td>\n",
       "      <td>460</td>\n",
       "      <td>0</td>\n",
       "      <td>785</td>\n",
       "      <td>1545</td>\n",
       "      <td>853</td>\n",
       "      <td>2047</td>\n",
       "      <td>1115</td>\n",
       "      <td>731</td>\n",
       "    </tr>\n",
       "    <tr>\n",
       "      <th>Cologne</th>\n",
       "      <td>2762</td>\n",
       "      <td>1498</td>\n",
       "      <td>206</td>\n",
       "      <td>409</td>\n",
       "      <td>785</td>\n",
       "      <td>0</td>\n",
       "      <td>760</td>\n",
       "      <td>1662</td>\n",
       "      <td>2436</td>\n",
       "      <td>460</td>\n",
       "      <td>269</td>\n",
       "    </tr>\n",
       "    <tr>\n",
       "      <th>Copenhagen</th>\n",
       "      <td>3276</td>\n",
       "      <td>2218</td>\n",
       "      <td>966</td>\n",
       "      <td>1136</td>\n",
       "      <td>1545</td>\n",
       "      <td>760</td>\n",
       "      <td>0</td>\n",
       "      <td>1418</td>\n",
       "      <td>3196</td>\n",
       "      <td>460</td>\n",
       "      <td>269</td>\n",
       "    </tr>\n",
       "    <tr>\n",
       "      <th>Geneva</th>\n",
       "      <td>2610</td>\n",
       "      <td>803</td>\n",
       "      <td>677</td>\n",
       "      <td>747</td>\n",
       "      <td>853</td>\n",
       "      <td>1662</td>\n",
       "      <td>1418</td>\n",
       "      <td>0</td>\n",
       "      <td>1975</td>\n",
       "      <td>1118</td>\n",
       "      <td>895</td>\n",
       "    </tr>\n",
       "    <tr>\n",
       "      <th>Gibraltar</th>\n",
       "      <td>4485</td>\n",
       "      <td>1172</td>\n",
       "      <td>2256</td>\n",
       "      <td>2224</td>\n",
       "      <td>2047</td>\n",
       "      <td>2436</td>\n",
       "      <td>3196</td>\n",
       "      <td>1975</td>\n",
       "      <td>0</td>\n",
       "      <td>2897</td>\n",
       "      <td>2428</td>\n",
       "    </tr>\n",
       "    <tr>\n",
       "      <th>Hamburg</th>\n",
       "      <td>2977</td>\n",
       "      <td>2018</td>\n",
       "      <td>597</td>\n",
       "      <td>714</td>\n",
       "      <td>1115</td>\n",
       "      <td>460</td>\n",
       "      <td>460</td>\n",
       "      <td>1118</td>\n",
       "      <td>2897</td>\n",
       "      <td>0</td>\n",
       "      <td>550</td>\n",
       "    </tr>\n",
       "    <tr>\n",
       "      <th>Hook of Holland</th>\n",
       "      <td>3030</td>\n",
       "      <td>1490</td>\n",
       "      <td>172</td>\n",
       "      <td>330</td>\n",
       "      <td>731</td>\n",
       "      <td>269</td>\n",
       "      <td>269</td>\n",
       "      <td>895</td>\n",
       "      <td>2428</td>\n",
       "      <td>550</td>\n",
       "      <td>0</td>\n",
       "    </tr>\n",
       "  </tbody>\n",
       "</table>\n",
       "</div>"
      ],
      "text/plain": [
       "                 Athens  Barcelona  Brussels  Calais  Cherbourg  Cologne  \\\n",
       "Athens                0       3313      2963    3175       3339     2762   \n",
       "Barcelona          3313          0      1318    1326       1294     1498   \n",
       "Brussels           2963       1318         0     204        583      206   \n",
       "Calais             3175       1326       204       0        460      409   \n",
       "Cherbourg          3339       1294       583     460          0      785   \n",
       "Cologne            2762       1498       206     409        785        0   \n",
       "Copenhagen         3276       2218       966    1136       1545      760   \n",
       "Geneva             2610        803       677     747        853     1662   \n",
       "Gibraltar          4485       1172      2256    2224       2047     2436   \n",
       "Hamburg            2977       2018       597     714       1115      460   \n",
       "Hook of Holland    3030       1490       172     330        731      269   \n",
       "\n",
       "                 Copenhagen  Geneva  Gibraltar  Hamburg  Hook of Holland  \n",
       "Athens                 3276    2610       4485     2977             3030  \n",
       "Barcelona              2218     803       1172     2018             1490  \n",
       "Brussels                966     677       2256      597              172  \n",
       "Calais                 1136     747       2224      714              330  \n",
       "Cherbourg              1545     853       2047     1115              731  \n",
       "Cologne                 760    1662       2436      460              269  \n",
       "Copenhagen                0    1418       3196      460              269  \n",
       "Geneva                 1418       0       1975     1118              895  \n",
       "Gibraltar              3196    1975          0     2897             2428  \n",
       "Hamburg                 460    1118       2897        0              550  \n",
       "Hook of Holland         269     895       2428      550                0  "
      ]
     },
     "execution_count": 256,
     "metadata": {},
     "output_type": "execute_result"
    }
   ],
   "source": [
    "data1 = pd.read_csv(\"europen_Cities.csv\",header=0,index_col=0)\n",
    "data1"
   ]
  },
  {
   "cell_type": "markdown",
   "metadata": {},
   "source": [
    "#### Starting Point is Bangalore"
   ]
  },
  {
   "cell_type": "code",
   "execution_count": 257,
   "metadata": {},
   "outputs": [],
   "source": [
    "starting_point = \"Athens\""
   ]
  },
  {
   "cell_type": "markdown",
   "metadata": {},
   "source": [
    "###### The number of possible solutions are: 10! = 3628800\n",
    "We can generate all possible solutions and try to find the best of those , but this is a time taking process and may not be feasible for big problems.\n",
    "Genetic algorithm approach takes a randominzed search approach to find the best solution, with enough number of iterations, mutation and cross over, GA can reach the global minima for most of the problems."
   ]
  },
  {
   "cell_type": "markdown",
   "metadata": {},
   "source": [
    "##### Map places to integers"
   ]
  },
  {
   "cell_type": "code",
   "execution_count": 258,
   "metadata": {},
   "outputs": [
    {
     "data": {
      "text/plain": [
       "{0: 'Athens',\n",
       " 1: 'Barcelona',\n",
       " 2: 'Brussels',\n",
       " 3: 'Calais',\n",
       " 4: 'Cherbourg',\n",
       " 5: 'Cologne',\n",
       " 6: 'Copenhagen',\n",
       " 7: 'Geneva',\n",
       " 8: 'Gibraltar',\n",
       " 9: 'Hamburg',\n",
       " 10: 'Hook of Holland'}"
      ]
     },
     "execution_count": 258,
     "metadata": {},
     "output_type": "execute_result"
    }
   ],
   "source": [
    "cities_mapping = {}\n",
    "\n",
    "for i in enumerate(data1.columns):\n",
    "    cities_mapping[i[0]] = i[1]\n",
    "cities_mapping"
   ]
  },
  {
   "cell_type": "code",
   "execution_count": 259,
   "metadata": {},
   "outputs": [],
   "source": [
    "one_route = [5,6,10,9,1,3,4,7,2,8]# one of the routes"
   ]
  },
  {
   "cell_type": "code",
   "execution_count": 260,
   "metadata": {},
   "outputs": [
    {
     "data": {
      "text/plain": [
       "[5, 6, 10, 9, 1, 3, 4, 7, 2, 8]"
      ]
     },
     "execution_count": 260,
     "metadata": {},
     "output_type": "execute_result"
    }
   ],
   "source": [
    "one_route"
   ]
  },
  {
   "cell_type": "markdown",
   "metadata": {},
   "source": [
    "## createRandomRoute:: this function to generate random route"
   ]
  },
  {
   "cell_type": "code",
   "execution_count": 308,
   "metadata": {},
   "outputs": [],
   "source": [
    "def createRandomRoute():\n",
    "    \"\"\" This function generates a route by sampling numbers \"\"\"\n",
    "    my_randoms = random.sample(range(1,11), 10)    # excluding 0 from the range as 0 is the starting point for us i.e Bangalore\n",
    "    return my_randoms"
   ]
  },
  {
   "cell_type": "code",
   "execution_count": 309,
   "metadata": {
    "scrolled": true
   },
   "outputs": [],
   "source": [
    "temp_route = createRandomRoute()"
   ]
  },
  {
   "cell_type": "code",
   "execution_count": 310,
   "metadata": {
    "scrolled": false
   },
   "outputs": [
    {
     "data": {
      "text/plain": [
       "[2, 6, 7, 10, 9, 3, 5, 4, 8, 1]"
      ]
     },
     "execution_count": 310,
     "metadata": {},
     "output_type": "execute_result"
    }
   ],
   "source": [
    "temp_route"
   ]
  },
  {
   "cell_type": "markdown",
   "metadata": {},
   "source": [
    "## fitnessFunction :: Function to compute the route cost using the already defined path "
   ]
  },
  {
   "cell_type": "code",
   "execution_count": 311,
   "metadata": {},
   "outputs": [],
   "source": [
    "def fitnessFunction(pvRouteMap):\n",
    "    \"\"\"This functions takes the route generated and returns the cost incurred.\"\"\"\n",
    "    traverseData    = data1.copy() # creating a copy of the original df\n",
    "    sourcePoint     = 0 # defining a starting point\n",
    "    stopsCovered    = 0 # setting the number of stops covered to 0\n",
    "    routeCost       = 0 # setting the initial cost to 0\n",
    "    pvRouteMap1 = pvRouteMap #+ [pvRouteMap[0]]\n",
    "#     print(traverseData)\n",
    "    # initiate a while loop and calculate the cost for the whole path traversed and return the cost\n",
    "    while(stopsCovered < len(pvRouteMap1)) :  \n",
    "        routeCost = routeCost + traverseData.iloc[sourcePoint, pvRouteMap1[stopsCovered]]   \n",
    "        \"\"\"route cost is the sum of the cost incurred from travelling from one point to the next according\n",
    "        to the route that was generated previously.\"\"\"\n",
    "        sourcePoint = pvRouteMap1[stopsCovered] # update the source point to the next point in the route\n",
    "        stopsCovered = stopsCovered+1 #Adding 1 to the stops covered\n",
    "#         print(sourcePoint)\n",
    "    routeCost = routeCost + traverseData.iloc[pvRouteMap1[-1],0]\n",
    "\n",
    "    return(routeCost)"
   ]
  },
  {
   "cell_type": "code",
   "execution_count": 312,
   "metadata": {
    "scrolled": true
   },
   "outputs": [
    {
     "name": "stdout",
     "output_type": "stream",
     "text": [
      "[2, 6, 7, 10, 9, 3, 5, 4, 8, 1]\n"
     ]
    },
    {
     "data": {
      "text/plain": [
       "15232"
      ]
     },
     "execution_count": 312,
     "metadata": {},
     "output_type": "execute_result"
    }
   ],
   "source": [
    "print(temp_route)\n",
    "\n",
    "fitnessFunction(temp_route)\n"
   ]
  },
  {
   "cell_type": "markdown",
   "metadata": {},
   "source": [
    "#### We can look at the positions and think of one good route , we will see if our algorithm performs better than this route"
   ]
  },
  {
   "cell_type": "code",
   "execution_count": 313,
   "metadata": {
    "scrolled": false
   },
   "outputs": [
    {
     "data": {
      "text/plain": [
       "['Cologne',\n",
       " 'Copenhagen',\n",
       " 'Hook of Holland',\n",
       " 'Hamburg',\n",
       " 'Barcelona',\n",
       " 'Calais',\n",
       " 'Cherbourg',\n",
       " 'Geneva',\n",
       " 'Brussels',\n",
       " 'Gibraltar']"
      ]
     },
     "execution_count": 313,
     "metadata": {},
     "output_type": "execute_result"
    }
   ],
   "source": [
    "one_route_cities = []\n",
    "for i in one_route:\n",
    "    one_route_cities.append(cities_mapping[i])\n",
    "one_route_cities"
   ]
  },
  {
   "cell_type": "markdown",
   "metadata": {},
   "source": [
    "##  mutateRoute:: this function will generate mutated path where we define mutation policy."
   ]
  },
  {
   "cell_type": "code",
   "execution_count": 314,
   "metadata": {},
   "outputs": [],
   "source": [
    "def mutateRoute(initPath, mutateFactor):\n",
    "    \"\"\" This functions generates a mutated path , takes an input path and returns a mutated path.\n",
    "    Mutate factor is the point at which the string (route here) is split and the two parts are swapped.\n",
    "    \n",
    "        Mutation\n",
    "        Step 1: Pick a parent chromosome\n",
    "        Step 2: Randomly pick an index (position in the parent chromosome)\n",
    "        Step 3: Swap the values before and after the index to generate the mutated chromosome (child).\n",
    "        \n",
    "    Ex: \n",
    "        input to the function:        \n",
    "            parent = [4, 6, 2, 8, 3, 5, 7, 1, 9, 10]\n",
    "            index = 3 (randomy generate the index)\n",
    "            \n",
    "        with in function\n",
    "            temp1 = [4, 6, 2]\n",
    "            temp2 = [8, 3, 5, 7, 1, 9, 10]\n",
    "        \n",
    "        output:\n",
    "            child  = [8, 3, 5, 7, 1, 9, 10, 4, 6, 2]\n",
    "\n",
    "    Implemetation:\n",
    "        getMutatedPath(initPath = [4, 6, 2, 8, 3, 5, 7, 1, 9, 10], mutateFactor = 3)\n",
    "        output: [8, 3, 5, 7, 1, 9, 10, 4, 6, 2].\n",
    "    \"\"\"\n",
    "    \n",
    "    temp1 = initPath[0:mutateFactor]\n",
    "    temp2 = initPath[mutateFactor:len(initPath)]\n",
    "    newPath = temp2 + temp1\n",
    "\n",
    "    return(newPath)"
   ]
  },
  {
   "cell_type": "code",
   "execution_count": 315,
   "metadata": {},
   "outputs": [
    {
     "name": "stdout",
     "output_type": "stream",
     "text": [
      " This functions generates a mutated path , takes an input path and returns a mutated path.\n",
      "    Mutate factor is the point at which the string (route here) is split and the two parts are swapped.\n",
      "    \n",
      "        Mutation\n",
      "        Step 1: Pick a parent chromosome\n",
      "        Step 2: Randomly pick an index (position in the parent chromosome)\n",
      "        Step 3: Swap the values before and after the index to generate the mutated chromosome (child).\n",
      "        \n",
      "    Ex: \n",
      "        input to the function:        \n",
      "            parent = [4, 6, 2, 8, 3, 5, 7, 1, 9, 10]\n",
      "            index = 3 (randomy generate the index)\n",
      "            \n",
      "        with in function\n",
      "            temp1 = [4, 6, 2]\n",
      "            temp2 = [8, 3, 5, 7, 1, 9, 10]\n",
      "        \n",
      "        output:\n",
      "            child  = [8, 3, 5, 7, 1, 9, 10, 4, 6, 2]\n",
      "\n",
      "    Implemetation:\n",
      "        getMutatedPath(initPath = [4, 6, 2, 8, 3, 5, 7, 1, 9, 10], mutateFactor = 3)\n",
      "        output: [8, 3, 5, 7, 1, 9, 10, 4, 6, 2].\n",
      "    \n"
     ]
    }
   ],
   "source": [
    "print(mutateRoute.__doc__)"
   ]
  },
  {
   "cell_type": "markdown",
   "metadata": {},
   "source": [
    "#### Generate a sample path and mutate that path "
   ]
  },
  {
   "cell_type": "code",
   "execution_count": 316,
   "metadata": {
    "scrolled": true
   },
   "outputs": [],
   "source": [
    "temp_route = createRandomRoute()"
   ]
  },
  {
   "cell_type": "code",
   "execution_count": 317,
   "metadata": {
    "scrolled": false
   },
   "outputs": [
    {
     "data": {
      "text/plain": [
       "[8, 6, 3, 5, 2, 9, 7, 10, 4, 1]"
      ]
     },
     "execution_count": 317,
     "metadata": {},
     "output_type": "execute_result"
    }
   ],
   "source": [
    "temp_route"
   ]
  },
  {
   "cell_type": "code",
   "execution_count": 318,
   "metadata": {},
   "outputs": [
    {
     "data": {
      "text/plain": [
       "[3, 5, 2, 9, 7, 10, 4, 1, 8, 6]"
      ]
     },
     "execution_count": 318,
     "metadata": {},
     "output_type": "execute_result"
    }
   ],
   "source": [
    "mutateRoute(temp_route,2)"
   ]
  },
  {
   "cell_type": "code",
   "execution_count": 319,
   "metadata": {
    "scrolled": true
   },
   "outputs": [
    {
     "data": {
      "text/plain": [
       "17380"
      ]
     },
     "execution_count": 319,
     "metadata": {},
     "output_type": "execute_result"
    }
   ],
   "source": [
    "fitnessFunction(temp_route)"
   ]
  },
  {
   "cell_type": "code",
   "execution_count": 320,
   "metadata": {},
   "outputs": [
    {
     "name": "stdout",
     "output_type": "stream",
     "text": [
      "Total distance travelled to cover the route of Cologne => Copenhagen => Hook of Holland => Hamburg => Barcelona => Calais => Cherbourg => Geneva => Brussels => Gibraltar is 16416\n"
     ]
    }
   ],
   "source": [
    "print(\"Total distance travelled to cover the route of {} is {}\".format(\" => \".join( one_route_cities ),fitnessFunction(one_route)))"
   ]
  },
  {
   "cell_type": "markdown",
   "metadata": {},
   "source": [
    "# Function to create Initial (random) Population "
   ]
  },
  {
   "cell_type": "code",
   "execution_count": 321,
   "metadata": {},
   "outputs": [],
   "source": [
    "def initialPopCost(ninitpop = 10):\n",
    "    \"\"\"This function generates new routes and calculates the cost of the route.\n",
    "    returns a dictionary of routes and the cost.\"\"\"\n",
    "    np.random.seed(seed=42)\n",
    "    intial_cost = 0\n",
    "    routeCost = []\n",
    "    routes = [createRandomRoute() for i in range(0, ninitpop)]\n",
    "    routes_Cost = [fitnessFunction(i) for i in routes]\n",
    "    routes_DF = pd.DataFrame([routes,routes_Cost]).transpose()\n",
    "    routes_DF.columns = ['Route','Cost']\n",
    "    return(routes_DF)\n",
    "# initialPopCost()"
   ]
  },
  {
   "cell_type": "code",
   "execution_count": 322,
   "metadata": {},
   "outputs": [],
   "source": [
    "initial_pop_cost = initialPopCost(10)\n",
    "sorted_init_pop = initial_pop_cost.sort_values(['Cost'])"
   ]
  },
  {
   "cell_type": "code",
   "execution_count": 323,
   "metadata": {
    "scrolled": true
   },
   "outputs": [
    {
     "data": {
      "text/html": [
       "<div>\n",
       "<style scoped>\n",
       "    .dataframe tbody tr th:only-of-type {\n",
       "        vertical-align: middle;\n",
       "    }\n",
       "\n",
       "    .dataframe tbody tr th {\n",
       "        vertical-align: top;\n",
       "    }\n",
       "\n",
       "    .dataframe thead th {\n",
       "        text-align: right;\n",
       "    }\n",
       "</style>\n",
       "<table border=\"1\" class=\"dataframe\">\n",
       "  <thead>\n",
       "    <tr style=\"text-align: right;\">\n",
       "      <th></th>\n",
       "      <th>Route</th>\n",
       "      <th>Cost</th>\n",
       "    </tr>\n",
       "  </thead>\n",
       "  <tbody>\n",
       "    <tr>\n",
       "      <th>0</th>\n",
       "      <td>[6, 7, 2, 9, 4, 3, 1, 8, 10, 5]</td>\n",
       "      <td>15500</td>\n",
       "    </tr>\n",
       "    <tr>\n",
       "      <th>1</th>\n",
       "      <td>[2, 5, 4, 3, 1, 9, 7, 10, 6, 8]</td>\n",
       "      <td>17721</td>\n",
       "    </tr>\n",
       "    <tr>\n",
       "      <th>2</th>\n",
       "      <td>[1, 4, 9, 5, 8, 3, 6, 2, 10, 7]</td>\n",
       "      <td>16621</td>\n",
       "    </tr>\n",
       "    <tr>\n",
       "      <th>3</th>\n",
       "      <td>[4, 1, 3, 6, 8, 9, 7, 5, 10, 2]</td>\n",
       "      <td>19372</td>\n",
       "    </tr>\n",
       "    <tr>\n",
       "      <th>4</th>\n",
       "      <td>[6, 5, 7, 3, 2, 9, 10, 1, 4, 8]</td>\n",
       "      <td>17112</td>\n",
       "    </tr>\n",
       "    <tr>\n",
       "      <th>5</th>\n",
       "      <td>[5, 2, 10, 6, 3, 9, 1, 8, 4, 7]</td>\n",
       "      <td>13959</td>\n",
       "    </tr>\n",
       "    <tr>\n",
       "      <th>6</th>\n",
       "      <td>[6, 4, 7, 3, 9, 1, 5, 2, 8, 10]</td>\n",
       "      <td>18571</td>\n",
       "    </tr>\n",
       "    <tr>\n",
       "      <th>7</th>\n",
       "      <td>[9, 1, 3, 7, 5, 4, 6, 8, 10, 2]</td>\n",
       "      <td>19819</td>\n",
       "    </tr>\n",
       "    <tr>\n",
       "      <th>8</th>\n",
       "      <td>[5, 2, 1, 8, 9, 3, 10, 7, 6, 4]</td>\n",
       "      <td>16596</td>\n",
       "    </tr>\n",
       "    <tr>\n",
       "      <th>9</th>\n",
       "      <td>[2, 3, 8, 7, 6, 1, 4, 5, 10, 9]</td>\n",
       "      <td>16877</td>\n",
       "    </tr>\n",
       "  </tbody>\n",
       "</table>\n",
       "</div>"
      ],
      "text/plain": [
       "                             Route   Cost\n",
       "0  [6, 7, 2, 9, 4, 3, 1, 8, 10, 5]  15500\n",
       "1  [2, 5, 4, 3, 1, 9, 7, 10, 6, 8]  17721\n",
       "2  [1, 4, 9, 5, 8, 3, 6, 2, 10, 7]  16621\n",
       "3  [4, 1, 3, 6, 8, 9, 7, 5, 10, 2]  19372\n",
       "4  [6, 5, 7, 3, 2, 9, 10, 1, 4, 8]  17112\n",
       "5  [5, 2, 10, 6, 3, 9, 1, 8, 4, 7]  13959\n",
       "6  [6, 4, 7, 3, 9, 1, 5, 2, 8, 10]  18571\n",
       "7  [9, 1, 3, 7, 5, 4, 6, 8, 10, 2]  19819\n",
       "8  [5, 2, 1, 8, 9, 3, 10, 7, 6, 4]  16596\n",
       "9  [2, 3, 8, 7, 6, 1, 4, 5, 10, 9]  16877"
      ]
     },
     "execution_count": 323,
     "metadata": {},
     "output_type": "execute_result"
    }
   ],
   "source": [
    "initial_pop_cost"
   ]
  },
  {
   "cell_type": "code",
   "execution_count": 324,
   "metadata": {},
   "outputs": [
    {
     "data": {
      "text/html": [
       "<div>\n",
       "<style scoped>\n",
       "    .dataframe tbody tr th:only-of-type {\n",
       "        vertical-align: middle;\n",
       "    }\n",
       "\n",
       "    .dataframe tbody tr th {\n",
       "        vertical-align: top;\n",
       "    }\n",
       "\n",
       "    .dataframe thead th {\n",
       "        text-align: right;\n",
       "    }\n",
       "</style>\n",
       "<table border=\"1\" class=\"dataframe\">\n",
       "  <thead>\n",
       "    <tr style=\"text-align: right;\">\n",
       "      <th></th>\n",
       "      <th>Route</th>\n",
       "      <th>Cost</th>\n",
       "    </tr>\n",
       "  </thead>\n",
       "  <tbody>\n",
       "    <tr>\n",
       "      <th>5</th>\n",
       "      <td>[5, 2, 10, 6, 3, 9, 1, 8, 4, 7]</td>\n",
       "      <td>13959</td>\n",
       "    </tr>\n",
       "    <tr>\n",
       "      <th>0</th>\n",
       "      <td>[6, 7, 2, 9, 4, 3, 1, 8, 10, 5]</td>\n",
       "      <td>15500</td>\n",
       "    </tr>\n",
       "    <tr>\n",
       "      <th>8</th>\n",
       "      <td>[5, 2, 1, 8, 9, 3, 10, 7, 6, 4]</td>\n",
       "      <td>16596</td>\n",
       "    </tr>\n",
       "    <tr>\n",
       "      <th>2</th>\n",
       "      <td>[1, 4, 9, 5, 8, 3, 6, 2, 10, 7]</td>\n",
       "      <td>16621</td>\n",
       "    </tr>\n",
       "    <tr>\n",
       "      <th>9</th>\n",
       "      <td>[2, 3, 8, 7, 6, 1, 4, 5, 10, 9]</td>\n",
       "      <td>16877</td>\n",
       "    </tr>\n",
       "  </tbody>\n",
       "</table>\n",
       "</div>"
      ],
      "text/plain": [
       "                             Route   Cost\n",
       "5  [5, 2, 10, 6, 3, 9, 1, 8, 4, 7]  13959\n",
       "0  [6, 7, 2, 9, 4, 3, 1, 8, 10, 5]  15500\n",
       "8  [5, 2, 1, 8, 9, 3, 10, 7, 6, 4]  16596\n",
       "2  [1, 4, 9, 5, 8, 3, 6, 2, 10, 7]  16621\n",
       "9  [2, 3, 8, 7, 6, 1, 4, 5, 10, 9]  16877"
      ]
     },
     "execution_count": 324,
     "metadata": {},
     "output_type": "execute_result"
    }
   ],
   "source": [
    "sorted_init_pop.head()"
   ]
  },
  {
   "cell_type": "markdown",
   "metadata": {},
   "source": [
    "## Partially Mapped Crossover"
   ]
  },
  {
   "cell_type": "markdown",
   "metadata": {},
   "source": [
    "###### - implemented PMX conceptualized by goldberg"
   ]
  },
  {
   "cell_type": "code",
   "execution_count": 388,
   "metadata": {},
   "outputs": [],
   "source": [
    "def crossOverFunction(parent1, parent2,crossover_factor_start_pos=2,\n",
    "                             crossover_factor_end_pos=6):\n",
    "    \n",
    "    \"\"\"This function implements the partially mapped crossover by goldeberg (https://www.hindawi.com/journals/cin/2017/7430125/)\n",
    "    \n",
    "    inputs: 2 parent solutions, crossover start position, crossover end position.\n",
    "    crossover start position and  crossover end position are randomly generated in the solution.\n",
    "    \n",
    "    output: 2 child solutions, i.e the crossedover solutions.\n",
    "    Example :\n",
    "    \n",
    "        Inputs:\n",
    "            p1 = [5,7,2,4,8,9,3,6]\n",
    "            p2 = [8,6,9,3,2,5,7,4]\n",
    "            crossover_start_pos 2 (randomly selected)\n",
    "            crossover_end_pos 6 (randomly selected)\n",
    "        Internals:\n",
    "            The mapping created is [(2, 9), (4, 3), (8, 2), (9, 5)]\n",
    "            Child1 Intermediate [9, 7, 9, 3, 2, 5, 4, 6]\n",
    "            Child1 Intermediate [2, 7, 9, 3, 2, 5, 4, 6]\n",
    "            Child1 Intermediate [8, 7, 9, 3, 2, 5, 4, 6]\n",
    "            Child1 final [8, 7, 9, 3, 2, 5, 4, 6]\n",
    "            Child2 original [8, 6, 2, 4, 8, 9, 7, 4]\n",
    "            Child2 Intermediate [2, 6, 2, 4, 8, 9, 7, 3]\n",
    "            Child2 Intermediate [9, 6, 2, 4, 8, 9, 7, 3]\n",
    "            Child2 Intermediate [5, 6, 2, 4, 8, 9, 7, 3]\n",
    "            Child2 final [5, 6, 2, 4, 8, 9, 7, 3]\n",
    "        \n",
    "        Output:\n",
    "            Child: [8, 7, 9, 3, 2, 5, 4, 6]\n",
    "            Child: [5, 6, 2, 4, 8, 9, 7, 3].\n",
    "    \"\"\"\n",
    "    \n",
    "    indexes_for_crossover = random.sample(set(range(len(p1))), 2)\n",
    "    print(indexes_for_crossover)\n",
    "    crossover_factor_start_pos,crossover_factor_end_pos = min(indexes_for_crossover),max(indexes_for_crossover)\n",
    "#     print (indexes_for_crossover)\n",
    "    ## generate child 1\n",
    "    child1 = parent1[0:crossover_factor_start_pos]+\\\n",
    "    parent2[crossover_factor_start_pos:crossover_factor_end_pos] +\\\n",
    "    parent1[crossover_factor_end_pos:]\n",
    "    \n",
    "    ## generate child 2\n",
    "    child2 = parent2[0:crossover_factor_start_pos] +\\\n",
    "    parent1[crossover_factor_start_pos:crossover_factor_end_pos] +\\\n",
    "    parent2[crossover_factor_end_pos:]\n",
    "    \n",
    "    ## Create mappings\n",
    "    mpping = list(zip(parent1[crossover_factor_start_pos:crossover_factor_end_pos], # create tuple of mappings\n",
    "                      parent2[crossover_factor_start_pos:crossover_factor_end_pos]))\n",
    "#     print(mpping)\n",
    "    # run until all the nodes in the route are unique\n",
    "    while len(np.unique(child1)) != len(child1):\n",
    "        child1_part = child1[:crossover_factor_start_pos]+child1[crossover_factor_end_pos:]\n",
    "        for i in child1_part:\n",
    "            for j in mpping:\n",
    "                if i == j[1]: #j[1] - Parent 2 window elements                 \n",
    "                    child1_part[child1_part.index(i)] = j[0] #j[0] - Parent 1 window elements\n",
    "                    \n",
    "        child1 = child1_part[:crossover_factor_start_pos]+ child1[crossover_factor_start_pos:crossover_factor_end_pos]+ child1_part[crossover_factor_start_pos:]\n",
    "        \n",
    "#         print(\"Child1 Intermediate {}\".format(child1))\n",
    "#     print(\"Child1 final {}\".format(child1))\n",
    "\n",
    "#     print(\"Child2 original {}\".format(child2))\n",
    "\n",
    "    # run until all the nodes in the route are unique\n",
    "    while len(np.unique(child2)) != len(child2):\n",
    "        child2_part = child2[:crossover_factor_start_pos]+child2[crossover_factor_end_pos:]\n",
    "        for i in child2_part:\n",
    "            for j in mpping:\n",
    "                if i == j[0]:\n",
    "                    child2_part[child2_part.index(i)] = j[1]\n",
    "        child2 = child2_part[:crossover_factor_start_pos]+child2[crossover_factor_start_pos:crossover_factor_end_pos]+child2_part[crossover_factor_start_pos:]\n",
    "#         print(\"Child2 Intermediate {}\".format(child2))\n",
    "#     print(\"Child2 final {}\".format(child2))\n",
    "    return( child1,child2)"
   ]
  },
  {
   "cell_type": "code",
   "execution_count": 389,
   "metadata": {},
   "outputs": [
    {
     "name": "stdout",
     "output_type": "stream",
     "text": [
      "This function implements the partially mapped crossover by goldeberg (https://www.hindawi.com/journals/cin/2017/7430125/)\n",
      "    \n",
      "    inputs: 2 parent solutions, crossover start position, crossover end position.\n",
      "    crossover start position and  crossover end position are randomly generated in the solution.\n",
      "    \n",
      "    output: 2 child solutions, i.e the crossedover solutions.\n",
      "    Example :\n",
      "    \n",
      "        Inputs:\n",
      "            p1 = [5,7,2,4,8,9,3,6]\n",
      "            p2 = [8,6,9,3,2,5,7,4]\n",
      "            crossover_start_pos 2 (randomly selected)\n",
      "            crossover_end_pos 6 (randomly selected)\n",
      "        Internals:\n",
      "            The mapping created is [(2, 9), (4, 3), (8, 2), (9, 5)]\n",
      "            Child1 Intermediate [9, 7, 9, 3, 2, 5, 4, 6]\n",
      "            Child1 Intermediate [2, 7, 9, 3, 2, 5, 4, 6]\n",
      "            Child1 Intermediate [8, 7, 9, 3, 2, 5, 4, 6]\n",
      "            Child1 final [8, 7, 9, 3, 2, 5, 4, 6]\n",
      "            Child2 original [8, 6, 2, 4, 8, 9, 7, 4]\n",
      "            Child2 Intermediate [2, 6, 2, 4, 8, 9, 7, 3]\n",
      "            Child2 Intermediate [9, 6, 2, 4, 8, 9, 7, 3]\n",
      "            Child2 Intermediate [5, 6, 2, 4, 8, 9, 7, 3]\n",
      "            Child2 final [5, 6, 2, 4, 8, 9, 7, 3]\n",
      "        \n",
      "        Output:\n",
      "            Child: [8, 7, 9, 3, 2, 5, 4, 6]\n",
      "            Child: [5, 6, 2, 4, 8, 9, 7, 3].\n",
      "    \n"
     ]
    }
   ],
   "source": [
    "print(crossOverFunction.__doc__)"
   ]
  },
  {
   "cell_type": "code",
   "execution_count": 390,
   "metadata": {},
   "outputs": [],
   "source": [
    "p1 = [5,7,2,4,8,9,3,6]"
   ]
  },
  {
   "cell_type": "code",
   "execution_count": 391,
   "metadata": {},
   "outputs": [],
   "source": [
    "p2 = [8,6,9,3,2,5,7,4]"
   ]
  },
  {
   "cell_type": "code",
   "execution_count": 392,
   "metadata": {},
   "outputs": [
    {
     "name": "stdout",
     "output_type": "stream",
     "text": [
      "[1, 5]\n",
      "Parent: [5, 7, 2, 4, 8, 9, 3, 6]  : Child: [5, 6, 9, 3, 2, 8, 4, 7]\n",
      "Parent: [8, 6, 9, 3, 2, 5, 7, 4]  : Child: [9, 7, 2, 4, 8, 5, 6, 3]\n"
     ]
    }
   ],
   "source": [
    "for i in zip([p1,p2],crossOverFunction(p1,p2)):\n",
    "    print (\"Parent: {}  : Child: {}\".format(i[0],i[1]))"
   ]
  },
  {
   "cell_type": "markdown",
   "metadata": {},
   "source": [
    " ### Best Solution So Far\n"
   ]
  },
  {
   "cell_type": "code",
   "execution_count": 330,
   "metadata": {},
   "outputs": [],
   "source": [
    "def genetic_algorithm(sorted_current_generation, no_of_chromosomes = 100 ,mutation_factor=0.2, xover_factor = 0.3):\n",
    "    \n",
    "    nextgen_childs = [] \n",
    "    \n",
    "    xover_pool = int(round(no_of_chromosomes * xover_factor ))\n",
    "    no_of_crossovers = int((no_of_chromosomes // 2) )\n",
    "    \n",
    "    print ('Running crossover')\n",
    "    for i in range(0,no_of_crossovers):\n",
    "        parent_index1 = random.choice(range(0,xover_pool))\n",
    "        p1= sorted_current_generation.iloc[parent_index1,0]\n",
    "        parent_index2 = random.choice(range(0,xover_pool))\n",
    "        p2= sorted_current_generation.iloc[parent_index2,0]\n",
    "\n",
    "        c1, c2 = crossOverFunction(p1,p2)\n",
    "        nextgen_childs.extend([c1,c2])\n",
    "        \n",
    "    nextgen_costs = [fitnessFunction(i) for i in nextgen_childs]\n",
    "    next_generation = pd.DataFrame([nextgen_childs,nextgen_costs],).transpose() \n",
    "    next_generation.columns = ['Route','Cost']\n",
    "    \n",
    "    print('Running Mutation')\n",
    "    for i in range(0, no_of_chromosomes) :\n",
    "        mutation_prob = np.random.randn()\n",
    "        if mutation_prob < mutation_factor:\n",
    "            mutated_child = mutateRoute (next_generation.iloc[i,0] , 2)\n",
    "            next_generation.iloc[i,0] = mutated_child\n",
    "            next_generation.iloc[i,1] = fitnessFunction(next_generation.iloc[i,0])\n",
    "\n",
    "    return (next_generation)"
   ]
  },
  {
   "cell_type": "code",
   "execution_count": 331,
   "metadata": {},
   "outputs": [],
   "source": [
    "possible_solutions = math.factorial(10)"
   ]
  },
  {
   "cell_type": "code",
   "execution_count": 332,
   "metadata": {},
   "outputs": [],
   "source": [
    "def get_final_rounte(best_solution, best_cost):\n",
    "    final_route = []\n",
    "    for i in best_solution:\n",
    "        final_route.append(cities_mapping[i])\n",
    "    final_route = [starting_point] + final_route + [starting_point]\n",
    "    print(\"Total distance travelled to cover the final route of \\n {} is {}\".format(\" => \".join(final_route),best_cost))"
   ]
  },
  {
   "cell_type": "code",
   "execution_count": 333,
   "metadata": {},
   "outputs": [],
   "source": [
    "def perform_genetic_algorithm(no_of_iterations = 20, no_of_chromosomes = 100 ,mutation_factor=1, xover_factor = 0.3):\n",
    "    best_solution = []\n",
    "    # initialize the population and calculate the fitness criteria\n",
    "    current_generation = initialPopCost(no_of_chromosomes)\n",
    "    sorted_current_generation = current_generation.sort_values('Cost')\n",
    "    best_cost = sorted_current_generation.iloc[0,1]\n",
    "    for i in range(0, no_of_iterations) :\n",
    "        start = datetime.now()\n",
    "        \n",
    "        mutation_factor = mutation_factor/float(i+1) # discounting\n",
    "        \n",
    "        print(\"mutation_factor\", mutation_factor)\n",
    "        next_generation = genetic_algorithm(sorted_current_generation,no_of_chromosomes  ,mutation_factor, xover_factor)\n",
    "        print (\"GA with and initial population size of {} took {} seconds\".format(no_of_chromosomes,(datetime.now()-start).total_seconds()))\n",
    "        sorted_next_generation = next_generation.sort_values('Cost')\n",
    "        print (\"Completed {} runs of GA.\".format(i + 1))\n",
    "        print (\"-------------------------------------------------------------------------------------------\" )\n",
    "        print (\"below are the best chromosomes:\")\n",
    "        print(sorted_next_generation.head(3))\n",
    "        sorted_current_generation = sorted_next_generation\n",
    "        if best_cost > sorted_next_generation.iloc[0,1] :\n",
    "            best_cost = sorted_next_generation.iloc[0,1]\n",
    "            best_solution = sorted_next_generation.iloc[0,0]\n",
    "        final_route = []\n",
    "        for i in best_solution:\n",
    "            final_route.append(cities_mapping[i])\n",
    "        final_route = [starting_point] + final_route + [starting_point]\n",
    "        print(\"Total distance travelled to cover the final route of \\n {} is {}\".format(\" => \".join(final_route),best_cost))\n",
    "    print(\"Generated {}% of the {} solutions\".format(np.round((next_generation.shape[0]/possible_solutions)*100,3),possible_solutions))\n",
    "    get_final_rounte(best_solution, best_cost)\n",
    "    \n",
    "    return (best_solution, best_cost)"
   ]
  },
  {
   "cell_type": "code",
   "execution_count": 334,
   "metadata": {
    "scrolled": false
   },
   "outputs": [
    {
     "name": "stdout",
     "output_type": "stream",
     "text": [
      "mutation_factor 1.0\n",
      "Running crossover\n",
      "Running Mutation\n",
      "GA with and initial population size of 10 took 0.04098 seconds\n",
      "Completed 1 runs of GA.\n",
      "-------------------------------------------------------------------------------------------\n",
      "below are the best chromosomes:\n",
      "                             Route   Cost\n",
      "2  [8, 1, 4, 7, 3, 2, 5, 10, 6, 9]  12936\n",
      "7  [7, 1, 2, 3, 10, 6, 9, 5, 4, 8]  13771\n",
      "9  [7, 1, 2, 3, 10, 6, 9, 5, 4, 8]  13771\n",
      "Total distance travelled to cover the final route of \n",
      " Athens => Gibraltar => Barcelona => Cherbourg => Geneva => Calais => Brussels => Cologne => Hook of Holland => Copenhagen => Hamburg => Athens is 12936\n",
      "mutation_factor 0.5\n",
      "Running crossover\n",
      "Running Mutation\n",
      "GA with and initial population size of 10 took 0.048975 seconds\n",
      "Completed 2 runs of GA.\n",
      "-------------------------------------------------------------------------------------------\n",
      "below are the best chromosomes:\n",
      "                             Route   Cost\n",
      "8  [4, 7, 3, 2, 5, 9, 6, 10, 8, 1]  13451\n",
      "0  [2, 3, 10, 6, 9, 5, 4, 8, 7, 1]  13609\n",
      "1  [2, 3, 10, 6, 9, 5, 4, 8, 7, 1]  13609\n",
      "Total distance travelled to cover the final route of \n",
      " Athens => Gibraltar => Barcelona => Cherbourg => Geneva => Calais => Brussels => Cologne => Hook of Holland => Copenhagen => Hamburg => Athens is 12936\n",
      "mutation_factor 0.16666666666666666\n",
      "Running crossover\n",
      "Running Mutation\n",
      "GA with and initial population size of 10 took 0.030982 seconds\n",
      "Completed 3 runs of GA.\n",
      "-------------------------------------------------------------------------------------------\n",
      "below are the best chromosomes:\n",
      "                             Route   Cost\n",
      "2  [10, 6, 9, 5, 2, 7, 8, 1, 4, 3]  13178\n",
      "0  [2, 3, 10, 6, 9, 5, 4, 8, 7, 1]  13609\n",
      "7  [2, 3, 10, 6, 9, 5, 4, 8, 7, 1]  13609\n",
      "Total distance travelled to cover the final route of \n",
      " Athens => Gibraltar => Barcelona => Cherbourg => Geneva => Calais => Brussels => Cologne => Hook of Holland => Copenhagen => Hamburg => Athens is 12936\n",
      "Generated 0.0% of the 3628800 solutions\n",
      "Total distance travelled to cover the final route of \n",
      " Athens => Gibraltar => Barcelona => Cherbourg => Geneva => Calais => Brussels => Cologne => Hook of Holland => Copenhagen => Hamburg => Athens is 12936\n"
     ]
    }
   ],
   "source": [
    "best_solution, best_cost = perform_genetic_algorithm(no_of_iterations = 3, no_of_chromosomes=10)"
   ]
  },
  {
   "cell_type": "code",
   "execution_count": 335,
   "metadata": {},
   "outputs": [
    {
     "name": "stdout",
     "output_type": "stream",
     "text": [
      "Requirement already up-to-date: plotly in c:\\users\\ise\\anaconda3\\lib\\site-packages (4.3.0)\n",
      "Requirement already satisfied, skipping upgrade: retrying>=1.3.3 in c:\\users\\ise\\anaconda3\\lib\\site-packages (from plotly) (1.3.3)\n",
      "Requirement already satisfied, skipping upgrade: six in c:\\users\\ise\\appdata\\roaming\\python\\python37\\site-packages (from plotly) (1.12.0)\n"
     ]
    }
   ],
   "source": [
    "!pip install --upgrade plotly"
   ]
  },
  {
   "cell_type": "code",
   "execution_count": 336,
   "metadata": {},
   "outputs": [
    {
     "name": "stdout",
     "output_type": "stream",
     "text": [
      "Requirement already satisfied: geopy in c:\\users\\ise\\anaconda3\\lib\\site-packages (1.20.0)\n",
      "Requirement already satisfied: geographiclib<2,>=1.49 in c:\\users\\ise\\anaconda3\\lib\\site-packages (from geopy) (1.50)\n"
     ]
    }
   ],
   "source": [
    "!pip install geopy"
   ]
  },
  {
   "cell_type": "code",
   "execution_count": 337,
   "metadata": {},
   "outputs": [],
   "source": [
    "import plotly.graph_objects as go\n",
    "import pandas as pd\n",
    "from geopy.geocoders import Nominatim"
   ]
  },
  {
   "cell_type": "code",
   "execution_count": 338,
   "metadata": {},
   "outputs": [
    {
     "name": "stderr",
     "output_type": "stream",
     "text": [
      "C:\\Users\\ISE\\Anaconda3\\lib\\site-packages\\ipykernel_launcher.py:1: DeprecationWarning:\n",
      "\n",
      "`country_bias` argument of the Nominatim.__init__ is deprecated and will be removed in geopy 2.0. Use Nominatim.geocode(country_codes=['GB', 'DE', 'DK', 'GI', 'GR', 'ES', 'BE', 'FR', 'CH', 'NL']) instead.\n",
      "\n"
     ]
    },
    {
     "name": "stdout",
     "output_type": "stream",
     "text": [
      "41.3828939 2.1774322\n"
     ]
    }
   ],
   "source": [
    "geolocator = Nominatim(user_agent=\"GA\",country_bias=['GB','DE','DK','GI','GR','ES','BE','FR','CH','NL'])\n",
    "location = geolocator.geocode(\"Barcelona\")\n",
    "print(location.latitude,location.longitude)"
   ]
  },
  {
   "cell_type": "code",
   "execution_count": 339,
   "metadata": {},
   "outputs": [
    {
     "data": {
      "text/plain": [
       "['Athens',\n",
       " 'Barcelona',\n",
       " 'Brussels',\n",
       " 'Calais',\n",
       " 'Cherbourg',\n",
       " 'Cologne',\n",
       " 'Copenhagen',\n",
       " 'Geneva',\n",
       " 'Gibraltar',\n",
       " 'Hamburg',\n",
       " 'Hook of Holland']"
      ]
     },
     "execution_count": 339,
     "metadata": {},
     "output_type": "execute_result"
    }
   ],
   "source": [
    "list(data1.columns)"
   ]
  },
  {
   "cell_type": "code",
   "execution_count": 340,
   "metadata": {},
   "outputs": [],
   "source": [
    "lat_long = []\n",
    "for i in data1.columns:\n",
    "    location = geolocator.geocode(i)\n",
    "    lat_long.append([i,location.latitude,location.longitude])"
   ]
  },
  {
   "cell_type": "code",
   "execution_count": 341,
   "metadata": {},
   "outputs": [],
   "source": [
    "lat_long = pd.DataFrame(lat_long,columns = [\"city\",'lat','long'])"
   ]
  },
  {
   "cell_type": "code",
   "execution_count": 342,
   "metadata": {},
   "outputs": [
    {
     "data": {
      "text/html": [
       "<div>\n",
       "<style scoped>\n",
       "    .dataframe tbody tr th:only-of-type {\n",
       "        vertical-align: middle;\n",
       "    }\n",
       "\n",
       "    .dataframe tbody tr th {\n",
       "        vertical-align: top;\n",
       "    }\n",
       "\n",
       "    .dataframe thead th {\n",
       "        text-align: right;\n",
       "    }\n",
       "</style>\n",
       "<table border=\"1\" class=\"dataframe\">\n",
       "  <thead>\n",
       "    <tr style=\"text-align: right;\">\n",
       "      <th></th>\n",
       "      <th>city</th>\n",
       "      <th>lat</th>\n",
       "      <th>long</th>\n",
       "    </tr>\n",
       "  </thead>\n",
       "  <tbody>\n",
       "    <tr>\n",
       "      <th>0</th>\n",
       "      <td>Athens</td>\n",
       "      <td>37.984149</td>\n",
       "      <td>23.727984</td>\n",
       "    </tr>\n",
       "    <tr>\n",
       "      <th>1</th>\n",
       "      <td>Barcelona</td>\n",
       "      <td>41.382894</td>\n",
       "      <td>2.177432</td>\n",
       "    </tr>\n",
       "    <tr>\n",
       "      <th>2</th>\n",
       "      <td>Brussels</td>\n",
       "      <td>50.846557</td>\n",
       "      <td>4.351697</td>\n",
       "    </tr>\n",
       "    <tr>\n",
       "      <th>3</th>\n",
       "      <td>Calais</td>\n",
       "      <td>50.948800</td>\n",
       "      <td>1.874680</td>\n",
       "    </tr>\n",
       "    <tr>\n",
       "      <th>4</th>\n",
       "      <td>Cherbourg</td>\n",
       "      <td>49.512720</td>\n",
       "      <td>-1.575544</td>\n",
       "    </tr>\n",
       "    <tr>\n",
       "      <th>5</th>\n",
       "      <td>Cologne</td>\n",
       "      <td>50.938361</td>\n",
       "      <td>6.959974</td>\n",
       "    </tr>\n",
       "    <tr>\n",
       "      <th>6</th>\n",
       "      <td>Copenhagen</td>\n",
       "      <td>55.686724</td>\n",
       "      <td>12.570072</td>\n",
       "    </tr>\n",
       "    <tr>\n",
       "      <th>7</th>\n",
       "      <td>Geneva</td>\n",
       "      <td>46.201756</td>\n",
       "      <td>6.146601</td>\n",
       "    </tr>\n",
       "    <tr>\n",
       "      <th>8</th>\n",
       "      <td>Gibraltar</td>\n",
       "      <td>36.140807</td>\n",
       "      <td>-5.354129</td>\n",
       "    </tr>\n",
       "    <tr>\n",
       "      <th>9</th>\n",
       "      <td>Hamburg</td>\n",
       "      <td>53.550341</td>\n",
       "      <td>10.000654</td>\n",
       "    </tr>\n",
       "    <tr>\n",
       "      <th>10</th>\n",
       "      <td>Hook of Holland</td>\n",
       "      <td>51.977162</td>\n",
       "      <td>4.131453</td>\n",
       "    </tr>\n",
       "  </tbody>\n",
       "</table>\n",
       "</div>"
      ],
      "text/plain": [
       "               city        lat       long\n",
       "0            Athens  37.984149  23.727984\n",
       "1         Barcelona  41.382894   2.177432\n",
       "2          Brussels  50.846557   4.351697\n",
       "3            Calais  50.948800   1.874680\n",
       "4         Cherbourg  49.512720  -1.575544\n",
       "5           Cologne  50.938361   6.959974\n",
       "6        Copenhagen  55.686724  12.570072\n",
       "7            Geneva  46.201756   6.146601\n",
       "8         Gibraltar  36.140807  -5.354129\n",
       "9           Hamburg  53.550341  10.000654\n",
       "10  Hook of Holland  51.977162   4.131453"
      ]
     },
     "execution_count": 342,
     "metadata": {},
     "output_type": "execute_result"
    }
   ],
   "source": [
    "lat_long"
   ]
  },
  {
   "cell_type": "code",
   "execution_count": 343,
   "metadata": {},
   "outputs": [],
   "source": [
    "best_route_names=[\"Athens\"]+[cities_mapping[i] for i in best_solution]+[\"Athens\"]"
   ]
  },
  {
   "cell_type": "code",
   "execution_count": 344,
   "metadata": {},
   "outputs": [],
   "source": [
    "#!pip install gmplot"
   ]
  },
  {
   "cell_type": "code",
   "execution_count": 345,
   "metadata": {},
   "outputs": [],
   "source": [
    "import gmplot "
   ]
  },
  {
   "cell_type": "code",
   "execution_count": 404,
   "metadata": {},
   "outputs": [],
   "source": [
    "latitude_list = lat_long['lat']\n",
    "longitude_list =lat_long['long'] \n",
    "  \n",
    "gmap3 = gmplot.GoogleMapPlotter(max(lat_long['lat']), \n",
    "                                max(lat_long['long']),5) \n",
    "  "
   ]
  },
  {
   "cell_type": "code",
   "execution_count": 405,
   "metadata": {},
   "outputs": [],
   "source": [
    "# scatter method of map object  \n",
    "# scatter points on the google map \n",
    "gmap3.scatter( latitude_list, longitude_list, '# FF0000', \n",
    "                              size = 40, marker = False ) "
   ]
  },
  {
   "cell_type": "code",
   "execution_count": 406,
   "metadata": {},
   "outputs": [
    {
     "data": {
      "text/html": [
       "<div>\n",
       "<style scoped>\n",
       "    .dataframe tbody tr th:only-of-type {\n",
       "        vertical-align: middle;\n",
       "    }\n",
       "\n",
       "    .dataframe tbody tr th {\n",
       "        vertical-align: top;\n",
       "    }\n",
       "\n",
       "    .dataframe thead th {\n",
       "        text-align: right;\n",
       "    }\n",
       "</style>\n",
       "<table border=\"1\" class=\"dataframe\">\n",
       "  <thead>\n",
       "    <tr style=\"text-align: right;\">\n",
       "      <th></th>\n",
       "      <th>city</th>\n",
       "      <th>lat</th>\n",
       "      <th>long</th>\n",
       "    </tr>\n",
       "  </thead>\n",
       "  <tbody>\n",
       "    <tr>\n",
       "      <th>0</th>\n",
       "      <td>Athens</td>\n",
       "      <td>37.984149</td>\n",
       "      <td>23.727984</td>\n",
       "    </tr>\n",
       "    <tr>\n",
       "      <th>1</th>\n",
       "      <td>Barcelona</td>\n",
       "      <td>41.382894</td>\n",
       "      <td>2.177432</td>\n",
       "    </tr>\n",
       "    <tr>\n",
       "      <th>2</th>\n",
       "      <td>Brussels</td>\n",
       "      <td>50.846557</td>\n",
       "      <td>4.351697</td>\n",
       "    </tr>\n",
       "    <tr>\n",
       "      <th>3</th>\n",
       "      <td>Calais</td>\n",
       "      <td>50.948800</td>\n",
       "      <td>1.874680</td>\n",
       "    </tr>\n",
       "    <tr>\n",
       "      <th>4</th>\n",
       "      <td>Cherbourg</td>\n",
       "      <td>49.512720</td>\n",
       "      <td>-1.575544</td>\n",
       "    </tr>\n",
       "    <tr>\n",
       "      <th>5</th>\n",
       "      <td>Cologne</td>\n",
       "      <td>50.938361</td>\n",
       "      <td>6.959974</td>\n",
       "    </tr>\n",
       "    <tr>\n",
       "      <th>6</th>\n",
       "      <td>Copenhagen</td>\n",
       "      <td>55.686724</td>\n",
       "      <td>12.570072</td>\n",
       "    </tr>\n",
       "    <tr>\n",
       "      <th>7</th>\n",
       "      <td>Geneva</td>\n",
       "      <td>46.201756</td>\n",
       "      <td>6.146601</td>\n",
       "    </tr>\n",
       "    <tr>\n",
       "      <th>8</th>\n",
       "      <td>Gibraltar</td>\n",
       "      <td>36.140807</td>\n",
       "      <td>-5.354129</td>\n",
       "    </tr>\n",
       "    <tr>\n",
       "      <th>9</th>\n",
       "      <td>Hamburg</td>\n",
       "      <td>53.550341</td>\n",
       "      <td>10.000654</td>\n",
       "    </tr>\n",
       "    <tr>\n",
       "      <th>10</th>\n",
       "      <td>Hook of Holland</td>\n",
       "      <td>51.977162</td>\n",
       "      <td>4.131453</td>\n",
       "    </tr>\n",
       "  </tbody>\n",
       "</table>\n",
       "</div>"
      ],
      "text/plain": [
       "               city        lat       long\n",
       "0            Athens  37.984149  23.727984\n",
       "1         Barcelona  41.382894   2.177432\n",
       "2          Brussels  50.846557   4.351697\n",
       "3            Calais  50.948800   1.874680\n",
       "4         Cherbourg  49.512720  -1.575544\n",
       "5           Cologne  50.938361   6.959974\n",
       "6        Copenhagen  55.686724  12.570072\n",
       "7            Geneva  46.201756   6.146601\n",
       "8         Gibraltar  36.140807  -5.354129\n",
       "9           Hamburg  53.550341  10.000654\n",
       "10  Hook of Holland  51.977162   4.131453"
      ]
     },
     "execution_count": 406,
     "metadata": {},
     "output_type": "execute_result"
    }
   ],
   "source": [
    "lat_long"
   ]
  },
  {
   "cell_type": "code",
   "execution_count": 407,
   "metadata": {},
   "outputs": [
    {
     "data": {
      "text/plain": [
       "['Athens',\n",
       " 'Gibraltar',\n",
       " 'Barcelona',\n",
       " 'Cherbourg',\n",
       " 'Geneva',\n",
       " 'Calais',\n",
       " 'Brussels',\n",
       " 'Cologne',\n",
       " 'Hook of Holland',\n",
       " 'Copenhagen',\n",
       " 'Hamburg',\n",
       " 'Athens']"
      ]
     },
     "execution_count": 407,
     "metadata": {},
     "output_type": "execute_result"
    }
   ],
   "source": [
    "best_route_names"
   ]
  },
  {
   "cell_type": "code",
   "execution_count": 408,
   "metadata": {},
   "outputs": [],
   "source": [
    "inverse_dict = {v: k for k, v in cities_mapping.items()}"
   ]
  },
  {
   "cell_type": "code",
   "execution_count": 409,
   "metadata": {},
   "outputs": [
    {
     "data": {
      "text/plain": [
       "{'Athens': 0,\n",
       " 'Barcelona': 1,\n",
       " 'Brussels': 2,\n",
       " 'Calais': 3,\n",
       " 'Cherbourg': 4,\n",
       " 'Cologne': 5,\n",
       " 'Copenhagen': 6,\n",
       " 'Geneva': 7,\n",
       " 'Gibraltar': 8,\n",
       " 'Hamburg': 9,\n",
       " 'Hook of Holland': 10}"
      ]
     },
     "execution_count": 409,
     "metadata": {},
     "output_type": "execute_result"
    }
   ],
   "source": [
    "inverse_dict"
   ]
  },
  {
   "cell_type": "code",
   "execution_count": 410,
   "metadata": {},
   "outputs": [
    {
     "name": "stdout",
     "output_type": "stream",
     "text": [
      "[37.9841493, 36.140807, 41.3828939, 49.51271975, 46.2017559, 50.9488, 50.8465573, 50.938361, 51.9771615, 55.6867243, 53.550341, 37.9841493]\n",
      "#####################################\n",
      "[23.7279843, -5.3541295, 2.1774322, -1.57554410903806, 6.1466014, 1.87468, 4.351697, 6.959974, 4.1314526, 12.5700724, 10.000654, 23.7279843]\n"
     ]
    }
   ],
   "source": [
    "lat_list = []\n",
    "long_list = []\n",
    "for i in best_route_names:\n",
    "    index = int(inverse_dict[i])\n",
    "    lat_list.append(lat_long['lat'][index])\n",
    "    long_list.append(lat_long['long'][index])\n",
    "print(lat_list)\n",
    "print(\"#####################################\")\n",
    "print(long_list)"
   ]
  },
  {
   "cell_type": "code",
   "execution_count": 411,
   "metadata": {},
   "outputs": [],
   "source": [
    "\n",
    "# Plot method Draw a line in \n",
    "# between given coordinates \n",
    "gmap3.plot(lat_list, long_list,  \n",
    "           'red', edge_width = 2.5,) "
   ]
  },
  {
   "cell_type": "code",
   "execution_count": 412,
   "metadata": {},
   "outputs": [],
   "source": [
    "import datetime\n",
    "file_name = datetime.datetime.now()"
   ]
  },
  {
   "cell_type": "code",
   "execution_count": 413,
   "metadata": {},
   "outputs": [
    {
     "data": {
      "text/plain": [
       "'634709'"
      ]
     },
     "execution_count": 413,
     "metadata": {},
     "output_type": "execute_result"
    }
   ],
   "source": [
    "str(file_name.microsecond)"
   ]
  },
  {
   "cell_type": "code",
   "execution_count": 414,
   "metadata": {},
   "outputs": [],
   "source": [
    "gmap3.draw( str(file_name.microsecond)+\"_map\"+\".html\") "
   ]
  },
  {
   "cell_type": "code",
   "execution_count": null,
   "metadata": {},
   "outputs": [],
   "source": []
  },
  {
   "cell_type": "code",
   "execution_count": null,
   "metadata": {},
   "outputs": [],
   "source": []
  }
 ],
 "metadata": {
  "kernelspec": {
   "display_name": "Python 3",
   "language": "python",
   "name": "python3"
  },
  "language_info": {
   "codemirror_mode": {
    "name": "ipython",
    "version": 3
   },
   "file_extension": ".py",
   "mimetype": "text/x-python",
   "name": "python",
   "nbconvert_exporter": "python",
   "pygments_lexer": "ipython3",
   "version": "3.7.3"
  },
  "toc": {
   "base_numbering": 1,
   "nav_menu": {},
   "number_sections": true,
   "sideBar": true,
   "skip_h1_title": true,
   "title_cell": "Table of Contents",
   "title_sidebar": "Contents",
   "toc_cell": false,
   "toc_position": {},
   "toc_section_display": true,
   "toc_window_display": false
  }
 },
 "nbformat": 4,
 "nbformat_minor": 2
}
